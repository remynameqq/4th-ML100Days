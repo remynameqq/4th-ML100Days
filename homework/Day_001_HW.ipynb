{
 "cells": [
  {
   "cell_type": "code",
   "execution_count": 3,
   "metadata": {},
   "outputs": [
    {
     "data": {
      "text/plain": [
       "'\\n#HW2\\n\\n\\n1. 你選的這組資料為何重要\\n   AN:\\n   可以了解COVID的突變\\n2. 資料從何而來 (tips: 譬如提供者是誰、以什麼方式蒐集)\\n    AN:The National Center for Biotechnology Information (NCBI)\\n        Center for Disease Control and Prevention (CDC) for images of the COVID-19 coronavirus virion\\n3. 蒐集而來的資料型態為何\\n    表格\\n4. 這組資料想解決的問題如何評估\\n    AN:Alignment hit tables compares the nucleotide of the virus for identical matches within the sequence, or percentage of similar matches, base pairs and its length.\\n\\n\\n#HW3\\n\\n\\nHW3\\n1. 核心問題為何 (tips：如何定義 「提升業績 & 你的假設」)\\n    AN:提早預估市場需求\\n2. 資料從何而來 (tips：哪些資料可能會對你想問的問題產生影響 & 資料如何蒐集)\\n    AN:過往的載客紀錄(地點 時間)\\n3. 蒐集而來的資料型態為何\\n    AN:表格\\n4. 你要回答的問題，其如何評估 (tips：你的假設如何驗證)\\n    AN:動態時間地圖上顯示區段時間的載客數\\n\\n\\n\\n\\n'"
      ]
     },
     "execution_count": 3,
     "metadata": {},
     "output_type": "execute_result"
    },
    {
     "data": {
      "image/png": "[encoded data removed]",
      "text/plain": [
       "<Figure size 432x288 with 1 Axes>"
      ]
     },
     "metadata": {
      "needs_background": "light"
     },
     "output_type": "display_data"
    }
   ],
   "source": [
    "# import 是 Python 載入套件的基本語法 (類似 C 語言的 include), 後面接要載入的套件\n",
    "# import AAAAA as BB, 其中 BB 是代稱, 表示除了載入 AAAAA 之外, 之後都可以用 BB 代替 AAAAA 這個名稱\n",
    "# 常用套件往往有其對應代稱, numpy的代稱是np, pandas的代稱是pd, matplotlib.pyplot的代稱是plt\n",
    "# numpy 常用於數值/陣列運算, pandas 擅長資料格式的調整, matplotlib 擅長繪圖\n",
    "import numpy as np\n",
    "import matplotlib.pyplot as plt\n",
    "# Python 的變數不須宣告, 可能是文字, 數值, 陣列, 甚至是物件, 對初學者來說這往往是最難接受的地方\n",
    "# 主要是 Python 在大多數情況下, 可以由運算\"猜\"出你想要的型態, 我們由下列語法看看發生了什麼事吧\n",
    "# w, b 是數值\n",
    "w = 3\n",
    "b = 0.5\n",
    "\n",
    "# np.linspace 是 numpy.linspace 的意思\n",
    "# np.linspace(0, 100, 101)是指 0~100 劃分成 101 個刻度(含頭尾), 所也就是 0, 1, 2,...,100 這 101 個數\n",
    "# 這時候, x_lin 因為要記錄不只一個數, 因為 np.linspace() 傳回的是一個 Array, 所以 x_lin 就變成 Array 了\n",
    "x_lin = np.linspace(0, 100, 101)\n",
    "\n",
    "# np.random.randn() 就是 numpy.random.randn(), 會隨機傳回標準常態分布的取樣值\n",
    "# np.random.randn(101) 表示取樣了101次, 型態是 Array, 所以其他 + 與 * 的部分都是 Array 的加與乘, 一行就計算了101筆資料\n",
    "# 所以最後的結果 y, 也是一個長度 101 的 Array\n",
    "y = (x_lin + np.random.randn(101) * 5) * w + b\n",
    "\n",
    "# 這邊就是將 x_lin 以及剛剛算完的 y, 當作座標值, 將101個點在平面上畫出來\n",
    "# b. : b 就是 blue, 點(.) 就是最小單位的形狀, 詳細可以查 matplotlib 的官方說明\n",
    "plt.plot(x_lin, y, 'b.', label = 'ggoints')\n",
    "plt.title(\"Assume we have data points\")\n",
    "plt.legend(loc = 1)\n",
    "\n",
    "\n",
    "\n",
    "# 這邊的 y_hat, 就沒有隨機的部分了, 也就是下圖中的紅色實線部分\n",
    "y_hat = x_lin * w + b\n",
    "plt.plot(x_lin, y, 'b.', label = 'data')\n",
    "# 上面的 'b.' 是藍色點狀, 下面的 'r-' 是紅色線狀, label 是圖示上的名稱\n",
    "plt.plot(x_lin, y_hat, 'r-', label = 'prediction')\n",
    "plt.title(\"Assume we have data points (And the prediction)\")\n",
    "plt.legend(loc = 2)\n",
    "\n",
    "\n",
    "\n",
    "\n",
    "def mean_square_error(a,b):\n",
    "    mse = MSE = sum((a-b)**2)\n",
    "    return mse\n",
    "MSE=mean_square_error(y,y_hat)\n",
    "print(\"The Mean Square Error is %.3f\" % (MSE))\n",
    "\n",
    "\"\"\"\n",
    "#HW2\n",
    "\n",
    "\n",
    "1. 你選的這組資料為何重要\n",
    "   AN:\n",
    "   可以了解COVID的突變\n",
    "2. 資料從何而來 (tips: 譬如提供者是誰、以什麼方式蒐集)\n",
    "    AN:The National Center for Biotechnology Information (NCBI)\n",
    "        Center for Disease Control and Prevention (CDC) for images of the COVID-19 coronavirus virion\n",
    "3. 蒐集而來的資料型態為何\n",
    "    表格\n",
    "4. 這組資料想解決的問題如何評估\n",
    "    AN:Alignment hit tables compares the nucleotide of the virus for identical matches within the sequence, or percentage of similar matches, base pairs and its length.\n",
    "\n",
    "\n",
    "#HW3\n",
    "\n",
    "\n",
    "HW3\n",
    "1. 核心問題為何 (tips：如何定義 「提升業績 & 你的假設」)\n",
    "    AN:提早預估市場需求\n",
    "2. 資料從何而來 (tips：哪些資料可能會對你想問的問題產生影響 & 資料如何蒐集)\n",
    "    AN:過往的載客紀錄(地點 時間)\n",
    "3. 蒐集而來的資料型態為何\n",
    "    AN:表格\n",
    "4. 你要回答的問題，其如何評估 (tips：你的假設如何驗證)\n",
    "    AN:動態時間地圖上顯示區段時間的載客數\n",
    "\n",
    "\n",
    "\n",
    "\n",
    "\"\"\""
   ]
  },
  {
   "cell_type": "code",
   "execution_count": null,
   "metadata": {},
   "outputs": [],
   "source": []
  }
 ],
 "metadata": {
  "kernelspec": {
   "display_name": "Python 3",
   "language": "python",
   "name": "python3"
  },
  "language_info": {
   "codemirror_mode": {
    "name": "ipython",
    "version": 3
   },
   "file_extension": ".py",
   "mimetype": "text/x-python",
   "name": "python",
   "nbconvert_exporter": "python",
   "pygments_lexer": "ipython3",
   "version": "3.7.4"
  }
 },
 "nbformat": 4,
 "nbformat_minor": 2
}

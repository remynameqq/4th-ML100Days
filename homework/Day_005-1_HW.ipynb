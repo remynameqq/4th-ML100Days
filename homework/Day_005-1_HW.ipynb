{
 "cells": [
  {
   "cell_type": "markdown",
   "metadata": {},
   "source": [
    "# [作業目標]\n",
    "- 利用範例的創建方式, 創建一組資料, 並練習如何取出最大值"
   ]
  },
  {
   "cell_type": "markdown",
   "metadata": {},
   "source": [
    "# [作業重點]\n",
    "- 練習創立 DataFrame (In[2])\n",
    "- 如何取出口數最多的國家 (In[3], Out[3])"
   ]
  },
  {
   "cell_type": "markdown",
   "metadata": {},
   "source": [
    "## 練習時間\n",
    "在小量的資料上，我們用眼睛就可以看得出來程式碼是否有跑出我們理想中的結果\n",
    "\n",
    "請嘗試想像一個你需要的資料結構 (裡面的值可以是隨機的)，然後用上述的方法把它變成 pandas DataFrame\n",
    "\n",
    "#### Ex: 想像一個 dataframe 有兩個欄位，一個是國家，一個是人口，求人口數最多的國家\n",
    "\n",
    "### Hints: [隨機產生數值](https://blog.csdn.net/christianashannon/article/details/78867204)"
   ]
  },
  {
   "cell_type": "code",
   "execution_count": 6,
   "metadata": {},
   "outputs": [],
   "source": [
    "import pandas as pd\n",
    "import numpy as np"
   ]
  },
  {
   "cell_type": "code",
   "execution_count": 112,
   "metadata": {
    "scrolled": true
   },
   "outputs": [
    {
     "name": "stdout",
     "output_type": "stream",
     "text": [
      "[36142359, 34987093, 28622603, 3561138, 1935636]\n",
      "{'country': ['Brazil', 'Cambodia', 'Canada', 'Macao', 'Taiwan'], 'population': [36142359, 34987093, 28622603, 3561138, 1935636]}\n",
      "    country  population\n",
      "0    Brazil    36142359\n",
      "1  Cambodia    34987093\n",
      "2    Canada    28622603\n",
      "3     Macao     3561138\n",
      "4    Taiwan     1935636\n",
      "最多人口國家 Brazil\n"
     ]
    }
   ],
   "source": [
    "population1=list(np.random.rand(5)*100000**0.5*123545)\n",
    "population = [int(x) for x in population1]\n",
    "print(population)\n",
    "country=[\"Brazil\",\"Cambodia\",\"Canada\",\"Macao\",\"Taiwan\"]\n",
    "pop_con=[country,population,]\n",
    "list_labels=[\"country\",\"population\"]\n",
    "zipped=dict(zip(list_labels,pop_con))\n",
    "print(zipped)\n",
    "data1 = pd.DataFrame(zipped)\n",
    "print(data1)\n",
    "zipped1=dict(zip(population,country))\n",
    "a=max(population)\n",
    "print(\"最多人口國家\",zipped1[a])"
   ]
  },
  {
   "cell_type": "code",
   "execution_count": null,
   "metadata": {},
   "outputs": [],
   "source": []
  },
  {
   "cell_type": "code",
   "execution_count": null,
   "metadata": {},
   "outputs": [],
   "source": []
  }
 ],
 "metadata": {
  "kernelspec": {
   "display_name": "Python 3",
   "language": "python",
   "name": "python3"
  },
  "language_info": {
   "codemirror_mode": {
    "name": "ipython",
    "version": 3
   },
   "file_extension": ".py",
   "mimetype": "text/x-python",
   "name": "python",
   "nbconvert_exporter": "python",
   "pygments_lexer": "ipython3",
   "version": "3.7.4"
  }
 },
 "nbformat": 4,
 "nbformat_minor": 2
}
